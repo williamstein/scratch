{
 "cells": [
  {
   "cell_type": "code",
   "execution_count": 1,
   "metadata": {
    "collapsed": false,
    "jupyter": {
    }
   },
   "outputs": [
    {
     "data": {
      "application/vnd.jupyter.widget-view+json": {
       "model_id": "813eb3a6c4064f819343ab51ee1f6e2c",
       "version_major": 2,
       "version_minor": 0
      },
      "text/plain": [
       "Output()"
      ]
     },
     "execution_count": 1,
     "metadata": {
     },
     "output_type": "execute_result"
    }
   ],
   "source": [
    "import k3d\n",
    "plot = k3d.plot()\n",
    "\n",
    "\n",
    "vertices = [[0, 0, 0], [1, 0, 0], [0, 0, 1]]\n",
    "indices = [[0, 1, 2]]\n",
    "\n",
    "mesh = k3d.mesh(vertices, indices)\n",
    "\n",
    "plot += mesh\n",
    "\n",
    "plot.display()"
   ]
  },
  {
   "cell_type": "code",
   "execution_count": 2,
   "metadata": {
    "collapsed": false,
    "jupyter": {
    }
   },
   "outputs": [
    {
     "data": {
      "application/vnd.jupyter.widget-view+json": {
       "model_id": "a43a49419d044dd09648fba3c162b132",
       "version_major": 2,
       "version_minor": 0
      },
      "text/plain": [
       "Plot(antialias=3, axes=['x', 'y', 'z'], axes_helper=1.0, background_color=16777215, camera_animation=[], camer…"
      ]
     },
     "execution_count": 2,
     "metadata": {
     },
     "output_type": "execute_result"
    }
   ],
   "source": [
    "plot += k3d.mesh([0, 1, 1,\n",
    "                 1, 1, 0,\n",
    "                 1, 1, 1,\n",
    "\n",
    "                 1, 2, 2,\n",
    "                 1, 1, 1,\n",
    "                 2, 1, 1], [0, 1, 2, 3, 4, 5], color=0x00ff00)\n",
    "\n",
    "plot"
   ]
  },
  {
   "cell_type": "code",
   "execution_count": 3,
   "metadata": {
    "collapsed": false,
    "jupyter": {
    }
   },
   "outputs": [
    {
     "data": {
      "application/vnd.jupyter.widget-view+json": {
       "model_id": "edc8e57309894508877a4fb3e48163e3",
       "version_major": 2,
       "version_minor": 0
      },
      "text/plain": [
       "Output()"
      ]
     },
     "execution_count": 3,
     "metadata": {
     },
     "output_type": "execute_result"
    }
   ],
   "source": [
    "import k3d\n",
    "import numpy as np\n",
    "\n",
    "x = np.random.randn(100000,3).astype(np.float32)\n",
    "point_size = 0.2\n",
    "\n",
    "plot = k3d.plot(name='points')\n",
    "plt_points = k3d.points(positions=x, point_size=0.2)\n",
    "plot += plt_points\n",
    "plt_points.shader='3d'\n",
    "plot.display()"
   ]
  },
  {
   "cell_type": "code",
   "execution_count": 4,
   "metadata": {
    "collapsed": false,
    "jupyter": {
    }
   },
   "outputs": [
   ],
   "source": [
    "f = (np.sum(x ** 3 - .1 * x ** 2, axis=1))\n",
    "colormap = k3d.colormaps.basic_color_maps.WarmCool\n",
    "colors = k3d.helpers.map_colors(f, colormap, [-2, .1])\n",
    "colors = colors.astype(np.uint32)\n",
    "plt_points.colors = colors"
   ]
  },
  {
   "cell_type": "code",
   "execution_count": 5,
   "metadata": {
    "collapsed": false,
    "jupyter": {
    }
   },
   "outputs": [
    {
     "data": {
      "application/vnd.jupyter.widget-view+json": {
       "model_id": "e79a050e3ff345949df7a600fc6a0198",
       "version_major": 2,
       "version_minor": 0
      },
      "text/plain": [
       "Output()"
      ]
     },
     "execution_count": 5,
     "metadata": {
     },
     "output_type": "execute_result"
    }
   ],
   "source": [
    "import numpy as np\n",
    "import k3d\n",
    "\n",
    "plot = k3d.plot(name='Wiener process')\n",
    "N = 1000\n",
    "traj = np.cumsum(np.random.randn(N, 3).astype(np.float32), axis=0)\n",
    "plt_line = k3d.line(traj, shader='mesh', width=0.5)\n",
    "plt_line2 = k3d.line([traj[0], traj[-1]], shader='mesh', width=.5, color=0xff0000)\n",
    "plot += plt_line\n",
    "plot += plt_line2\n",
    "plot.display()"
   ]
  },
  {
   "cell_type": "code",
   "execution_count": 6,
   "metadata": {
    "collapsed": false,
    "jupyter": {
    }
   },
   "outputs": [
    {
     "data": {
      "application/vnd.jupyter.widget-view+json": {
       "model_id": "7f371087c95149568d5a519cb6151f1b",
       "version_major": 2,
       "version_minor": 0
      },
      "text/plain": [
       "Output()"
      ]
     },
     "execution_count": 6,
     "metadata": {
     },
     "output_type": "execute_result"
    }
   ],
   "source": [
    "import k3d\n",
    "import numpy as np\n",
    "\n",
    "plot = k3d.plot()\n",
    "\n",
    "Nx, Ny = 50, 60\n",
    "xmin, xmax, ymin, ymax = -3, 3, 0, 3\n",
    "x = np.linspace(xmin, xmax, Nx, dtype=np.float32)\n",
    "y = np.linspace(ymin, ymax, Ny, dtype=np.float32)\n",
    "x, y = np.meshgrid(x, y)\n",
    "f = np.sin(x ** 2 + y ** 2)\n",
    "plt_surface = k3d.surface(f, xmin=xmin, xmax=xmax, ymin=ymin, ymax=ymax)\n",
    "plot += plt_surface\n",
    "\n",
    "plot.display()"
   ]
  },
  {
   "cell_type": "code",
   "execution_count": 7,
   "metadata": {
    "collapsed": false,
    "jupyter": {
    }
   },
   "outputs": [
    {
     "data": {
      "application/vnd.jupyter.widget-view+json": {
       "model_id": "0791a080953849339b111b14a415b037",
       "version_major": 2,
       "version_minor": 0
      },
      "text/plain": [
       "Output()"
      ]
     },
     "execution_count": 7,
     "metadata": {
     },
     "output_type": "execute_result"
    }
   ],
   "source": [
    "# this code is a part of matplotlib trisurf3d_demo\n",
    "\n",
    "import numpy as np\n",
    "import k3d\n",
    "from matplotlib.tri import Triangulation\n",
    "\n",
    "plot = k3d.plot()\n",
    "\n",
    "n_radii = 8\n",
    "n_angles = 36\n",
    "\n",
    "radii = np.linspace(0.125, 1.0, n_radii, dtype=np.float32)\n",
    "angles = np.linspace(0, 2 * np.pi, n_angles, endpoint=False, dtype=np.float32)[..., np.newaxis]\n",
    "\n",
    "x = np.append(np.float32(0), (radii * np.cos(angles)).flatten())\n",
    "y = np.append(np.float32(0), (radii * np.sin(angles)).flatten())\n",
    "\n",
    "z = np.sin(-x * y)\n",
    "indices = Triangulation(x, y).triangles.astype(np.uint32)\n",
    "\n",
    "plt_mesh = k3d.mesh(np.vstack([x, y, z]).T, indices,\n",
    "                    color_map=k3d.colormaps.basic_color_maps.Jet,\n",
    "                    attribute=z,\n",
    "                    color_range=[-1.1, 2.01]\n",
    "                    )\n",
    "plot += plt_mesh\n",
    "plot.display()"
   ]
  },
  {
   "cell_type": "code",
   "execution_count": 8,
   "metadata": {
    "collapsed": false,
    "jupyter": {
    }
   },
   "outputs": [
   ],
   "source": [
    "plt_mesh.attribute = {str(t): 3 * t * x ** 2 + y ** 2 for t in np.linspace(0, 2, 20)}\n"
   ]
  },
  {
   "cell_type": "code",
   "execution_count": 9,
   "metadata": {
    "collapsed": false,
    "jupyter": {
    }
   },
   "outputs": [
    {
     "data": {
      "application/vnd.jupyter.widget-view+json": {
       "model_id": "012903a1ef6e45ac9e5263b7b89bd326",
       "version_major": 2,
       "version_minor": 0
      },
      "text/plain": [
       "Output()"
      ]
     },
     "execution_count": 9,
     "metadata": {
     },
     "output_type": "execute_result"
    }
   ],
   "source": [
    "import k3d\n",
    "import numpy as np\n",
    "from numpy import sin,cos,pi\n",
    "\n",
    "plot = k3d.plot()\n",
    "\n",
    "T = 1.6\n",
    "r = 6\n",
    "zmin, zmax = -r, r\n",
    "xmin, xmax = -r, r\n",
    "ymin, ymax = -r, r\n",
    "Nx, Ny, Nz = 37, 37, 37\n",
    "\n",
    "x = np.linspace(xmin, xmax, Nx, dtype=np.float32)\n",
    "y = np.linspace(ymin, ymax, Ny, dtype=np.float32)\n",
    "z = np.linspace(zmin, zmax, Nz, dtype=np.float32)\n",
    "x, y, z = np.meshgrid(x, y, z, indexing='ij')\n",
    "p = 2 - (cos(x + T * y) + cos(x - T * y) + cos(y + T * z) +\n",
    "         cos(y - T * z) + cos(z - T * x) + cos(z + T * x))\n",
    "plt_iso = k3d.marching_cubes(p, compression_level=9, xmin=xmin, xmax=xmax,\n",
    "                             ymin=ymin, ymax=ymax,\n",
    "                             zmin=zmin, zmax=zmax, level=0.0,\n",
    "                             flat_shading=True)\n",
    "plot += plt_iso\n",
    "plot += plt_iso\n",
    "plot.display()"
   ]
  },
  {
   "cell_type": "code",
   "execution_count": 8,
   "metadata": {
    "collapsed": false,
    "jupyter": {
    }
   },
   "outputs": [
    {
     "data": {
      "application/vnd.jupyter.widget-view+json": {
       "model_id": "8b7701d58314452d8317e73908aa4a26",
       "version_major": 2,
       "version_minor": 0
      },
      "text/plain": [
       "Output()"
      ]
     },
     "execution_count": 8,
     "metadata": {
     },
     "output_type": "execute_result"
    }
   ],
   "source": [
    "import k3d\n",
    "import numpy as np\n",
    "\n",
    "g = 9.81\n",
    "v0 = 24\n",
    "\n",
    "plot = k3d.plot()\n",
    "\n",
    "for alpha_deg in [10, 30, 45, 60, 85]:\n",
    "    alpha = np.radians(alpha_deg)\n",
    "    t_end = 2 * v0 * np.sin(alpha) / g\n",
    "    t = np.linspace(0, t_end, 100)\n",
    "\n",
    "    # note .T at the end, k3d takes data (x1,y1,z1),(x2,y2,z2)...\n",
    "    traj3d = np.stack([v0 * t * np.cos(alpha), \\\n",
    "                       20 * alpha + np.zeros_like(t), \\\n",
    "                       v0 * t * np.sin(alpha) - g * t ** 2 / 2]).T.astype(np.float32)\n",
    "\n",
    "    plt_traj = k3d.line(traj3d)\n",
    "    plt_text = k3d.text('h_{max}',\n",
    "                        position=[float(np.cos(alpha) * t_end * v0 / 2),\n",
    "                                  float(20 * alpha),\n",
    "                                  float((v0 * np.sin(alpha)) ** 2 / (2 * g))],\n",
    "                        color=0xff0000, size=1)\n",
    "    plt_text2d = k3d.text2d(\n",
    "        r'\\text{ballistic trajectory: }\\; h=v_0 t \\sin \\alpha - \\frac{g t^2}{2}',\n",
    "        position=[0.0, 0.0], color=0x0000ff, size=1)\n",
    "    plt_texture_text = k3d.texture_text('START', position=[0, 0, 0],\n",
    "                                        font_face='Calibri', color=255, size=5)\n",
    "\n",
    "    if alpha_deg == 45:\n",
    "        plt_label = k3d.label('Optimal angle', traj3d[-1].tolist(), mode='dynamic',\n",
    "                              is_html=True, color=0xff00f0)\n",
    "        plot += plt_label\n",
    "\n",
    "    plot += plt_text\n",
    "    plot += plt_text2d\n",
    "    plot += plt_texture_text\n",
    "    plot += plt_traj\n",
    "\n",
    "plot.display()"
   ]
  },
  {
   "cell_type": "code",
   "execution_count": 11,
   "metadata": {
    "collapsed": false,
    "jupyter": {
    }
   },
   "outputs": [
    {
     "data": {
      "application/vnd.jupyter.widget-view+json": {
       "model_id": "e8bb3f8f082a45d4a344905c3a1c95eb",
       "version_major": 2,
       "version_minor": 0
      },
      "text/plain": [
       "Output()"
      ]
     },
     "execution_count": 11,
     "metadata": {
     },
     "output_type": "execute_result"
    }
   ],
   "source": [
    "import k3d\n",
    "import k3d.platonic as platonic\n",
    "import math\n",
    "\n",
    "plot = k3d.plot()\n",
    "\n",
    "meshes = [\n",
    "    platonic.Dodecahedron().mesh,\n",
    "    platonic.Cube().mesh,\n",
    "    platonic.Icosahedron().mesh,\n",
    "    platonic.Octahedron().mesh,\n",
    "    platonic.Tetrahedron().mesh\n",
    "]\n",
    "\n",
    "colors = [0xff0000, 0x00ff00, 0x0000ff, 0xffff00, 0xff00ff]\n",
    "\n",
    "for i, obj in enumerate(meshes):\n",
    "    rad = math.radians(i / len(meshes) * 360)\n",
    "    radius = 3.5\n",
    "    obj.transform.translation = [math.sin(rad) * radius, math.cos(rad) * radius, 0]\n",
    "    obj.color = colors[i]\n",
    "    plot += obj\n",
    "\n",
    "plot.display()"
   ]
  },
  {
   "cell_type": "code",
   "execution_count": 12,
   "metadata": {
    "collapsed": false,
    "jupyter": {
    }
   },
   "outputs": [
    {
     "data": {
      "application/vnd.jupyter.widget-view+json": {
       "model_id": "9b9fe9b3903c48e0b59f22181652f9d6",
       "version_major": 2,
       "version_minor": 0
      },
      "text/plain": [
       "Output()"
      ]
     },
     "execution_count": 12,
     "metadata": {
     },
     "output_type": "execute_result"
    }
   ],
   "source": [
    "import k3d\n",
    "import numpy as np\n",
    "\n",
    "x = np.random.randn(100,3).astype(np.float32)\n",
    "plot = k3d.plot(name='points')\n",
    "plt_points = k3d.points(positions=x, point_size=0.2, shader='3d')\n",
    "plot += plt_points\n",
    "\n",
    "plot.display()"
   ]
  },
  {
   "cell_type": "code",
   "execution_count": 13,
   "metadata": {
    "collapsed": false,
    "jupyter": {
    }
   },
   "outputs": [
   ],
   "source": [
    "from time import sleep\n",
    "for t in range(10):\n",
    "    plt_points.positions = x - t/10*x/np.linalg.norm(x,axis=-1)[:,np.newaxis]\n",
    "    sleep(0.5)"
   ]
  },
  {
   "cell_type": "code",
   "execution_count": 14,
   "metadata": {
    "collapsed": false,
    "jupyter": {
    }
   },
   "outputs": [
    {
     "data": {
      "application/vnd.jupyter.widget-view+json": {
       "model_id": "6a6de85301644dc8aabd1d71e95d775a",
       "version_major": 2,
       "version_minor": 0
      },
      "text/plain": [
       "Output()"
      ]
     },
     "execution_count": 14,
     "metadata": {
     },
     "output_type": "execute_result"
    }
   ],
   "source": [
    "import numpy as np\n",
    "import k3d\n",
    "\n",
    "plot = k3d.plot()\n",
    "\n",
    "iteration = 4\n",
    "size = 3 ** iteration\n",
    "\n",
    "voxels = np.ones((size, size, size))\n",
    "\n",
    "def iterate(length, x, y, z):\n",
    "\n",
    "    nl = length // 3\n",
    "\n",
    "    if nl < 1:\n",
    "        return\n",
    "\n",
    "    margin = (nl - 1) // 2\n",
    "\n",
    "    voxels[z - margin:z + margin + 1, y - margin:y + margin + 1, :] = 0\n",
    "    voxels[z - margin:z + margin + 1, :, x - margin:x + margin + 1] = 0\n",
    "    voxels[:, y - margin:y + margin + 1, x - margin:x + margin + 1] = 0\n",
    "\n",
    "    for ix, iy, iz in np.ndindex((3, 3, 3)):\n",
    "        if (1 if ix != 1 else 0) + (1 if iy != 1 else 0) + (1 if iz != 1 else 0) != 2:\n",
    "            iterate(nl, x + (ix - 1) * nl, y + (iy - 1) * nl, z + (iz - 1) * nl)\n",
    "\n",
    "iterate(size, size // 2, size // 2, size // 2)\n",
    "\n",
    "plot += k3d.voxels(voxels.astype(np.uint8), color_map=(0xffff00))\n",
    "\n",
    "plot.display()"
   ]
  },
  {
   "cell_type": "code",
   "execution_count": 0,
   "metadata": {
    "collapsed": false,
    "jupyter": {
     "outputs_hidden": false
    }
   },
   "outputs": [
   ],
   "source": [
   ]
  }
 ],
 "metadata": {
  "kernelspec": {
   "display_name": "Python 3 (system-wide)",
   "language": "python",
   "metadata": {
    "cocalc": {
     "description": "Python 3 programming language",
     "priority": 100,
     "url": "https://www.python.org/"
    }
   },
   "name": "python3",
   "resource_dir": "/ext/jupyter/kernels/python3"
  },
  "language_info": {
   "codemirror_mode": {
    "name": "ipython",
    "version": 3
   },
   "file_extension": ".py",
   "mimetype": "text/x-python",
   "name": "python",
   "nbconvert_exporter": "python",
   "pygments_lexer": "ipython3",
   "version": "3.8.10"
  }
 },
 "nbformat": 4,
 "nbformat_minor": 4
}